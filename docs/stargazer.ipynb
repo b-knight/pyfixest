{
 "cells": [
  {
   "cell_type": "markdown",
   "metadata": {},
   "source": [
    "## Publication-Ready Output Tables via `Stargazer`"
   ]
  },
  {
   "cell_type": "markdown",
   "metadata": {},
   "source": [
    "The [Stargazer](https://github.com/StatsReporting/stargazer) Python package support regression output for models from `PyFixest`. For details on stargazer's functionality, please take a look at the [stargazer examples](https://github.com/StatsReporting/stargazer/blob/master/examples.ipynb),\n",
    "\n",
    "In a first step, we fit three different regression models via `PyFixest`."
   ]
  },
  {
   "cell_type": "code",
   "execution_count": 8,
   "metadata": {},
   "outputs": [],
   "source": [
    "import numpy as np\n",
    "from stargazer.stargazer import LineLocation, Stargazer\n",
    "\n",
    "import pyfixest as pf\n",
    "\n",
    "fit1 = pf.feols(\"Y ~ X1 + X2\", data = pf.get_data())\n",
    "fit2 = pf.feols(\"Y ~ X1 + X2 | f1\", data = pf.get_data())\n",
    "fit3 = pf.feols(\"Y ~ X1 + X2| f1 + f2\", data = pf.get_data())"
   ]
  },
  {
   "cell_type": "markdown",
   "metadata": {},
   "source": [
    "We can now produce a html table with the results of the three regressions:"
   ]
  },
  {
   "cell_type": "code",
   "execution_count": 9,
   "metadata": {},
   "outputs": [
    {
     "data": {
      "text/html": [
       "<table style=\"text-align:center\"><tr><td colspan=\"4\" style=\"border-bottom: 1px solid black\"></td></tr>\n",
       "<tr><td style=\"text-align:left\"></td><td colspan=\"3\"><em>Dependent variable: Y</em></td></tr><tr><td style=\"text-align:left\"></td><tr><td style=\"text-align:left\"></td><td>(1)</td><td>(2)</td><td>(3)</td></tr>\n",
       "<tr><td colspan=\"4\" style=\"border-bottom: 1px solid black\"></td></tr>\n",
       "\n",
       "<tr><td style=\"text-align:left\">Intercept</td><td>0.889<sup>***</sup></td><td></td><td></td></tr>\n",
       "<tr><td style=\"text-align:left\"></td><td>(0.108)</td><td></td><td></td></tr>\n",
       "<tr><td style=\"text-align:left\">X1</td><td>-0.993<sup>***</sup></td><td>-0.950<sup>***</sup></td><td>-0.924<sup>***</sup></td></tr>\n",
       "<tr><td style=\"text-align:left\"></td><td>(0.082)</td><td>(0.067)</td><td>(0.061)</td></tr>\n",
       "<tr><td style=\"text-align:left\">X2</td><td>-0.176<sup>***</sup></td><td>-0.174<sup>***</sup></td><td>-0.174<sup>***</sup></td></tr>\n",
       "<tr><td style=\"text-align:left\"></td><td>(0.022)</td><td>(0.018)</td><td>(0.015)</td></tr>\n",
       "\n",
       "<td colspan=\"4\" style=\"border-bottom: 1px solid black\"></td></tr>\n",
       "<tr><td style=\"text-align: left\">Observations</td><td>998</td><td>997</td><td>997</td></tr><tr><td style=\"text-align: left\">R<sup>2</sup></td><td>0.177</td><td>0.489</td><td>0.659</td></tr>\n",
       "<tr><td colspan=\"4\" style=\"border-bottom: 1px solid black\"></td></tr><tr><td style=\"text-align: left\">Note:</td><td colspan=\"3\" style=\"text-align: right\"><sup>*</sup>p&lt;0.1; <sup>**</sup>p&lt;0.05; <sup>***</sup>p&lt;0.01</td></tr></table>"
      ],
      "text/plain": [
       "<stargazer.stargazer.Stargazer at 0x13d3ad85360>"
      ]
     },
     "execution_count": 9,
     "metadata": {},
     "output_type": "execute_result"
    }
   ],
   "source": [
    "result_table = Stargazer([fit1, fit2, fit3])\n",
    "result_table"
   ]
  },
  {
   "cell_type": "markdown",
   "metadata": {},
   "source": [
    "But we can also ask `Stargazer` to output the results in LaTeX format:"
   ]
  },
  {
   "cell_type": "code",
   "execution_count": 10,
   "metadata": {},
   "outputs": [
    {
     "name": "stdout",
     "output_type": "stream",
     "text": [
      "\\begin{table}[!htbp] \\centering\n",
      "\\begin{tabular}{@{\\extracolsep{5pt}}lccc}\n",
      "\\\\[-1.8ex]\\hline\n",
      "\\hline \\\\[-1.8ex]\n",
      "& \\multicolumn{3}{c}{\\textit{Dependent variable: Y}} \\\n",
      "\\cr \\cline{2-4}\n",
      "\\\\[-1.8ex] & (1) & (2) & (3) \\\\\n",
      "\\hline \\\\[-1.8ex]\n",
      " Intercept & 0.889$^{***}$ & & \\\\\n",
      "& (0.108) & & \\\\\n",
      " X1 & -0.993$^{***}$ & -0.950$^{***}$ & -0.924$^{***}$ \\\\\n",
      "& (0.082) & (0.067) & (0.061) \\\\\n",
      " X2 & -0.176$^{***}$ & -0.174$^{***}$ & -0.174$^{***}$ \\\\\n",
      "& (0.022) & (0.018) & (0.015) \\\\\n",
      "\\hline \\\\[-1.8ex]\n",
      " Observations & 998 & 997 & 997 \\\\\n",
      " $R^2$ & 0.177 & 0.489 & 0.659 \\\\\n",
      "\\hline\n",
      "\\hline \\\\[-1.8ex]\n",
      "\\textit{Note:} & \\multicolumn{3}{r}{$^{*}$p$<$0.1; $^{**}$p$<$0.05; $^{***}$p$<$0.01} \\\\\n",
      "\\end{tabular}\n",
      "\\end{table}\n"
     ]
    }
   ],
   "source": [
    "print(result_table.render_latex())"
   ]
  },
  {
   "cell_type": "markdown",
   "metadata": {},
   "source": [
    "And we can add custom statistics!\n",
    "\n",
    "For example, assume that we want to correct for multiple testing via the Romano-Wolf correction. We can do this as follows:"
   ]
  },
  {
   "cell_type": "code",
   "execution_count": 11,
   "metadata": {},
   "outputs": [],
   "source": [
    "rwolf_res = pf.rwolf([fit1, fit2, fit3], param = \"X1\", seed = 123, B = 1000)\n",
    "rwolf_pvalues = np.round(rwolf_res.xs(\"RW Pr(>|t|)\"), 3).to_list()"
   ]
  },
  {
   "cell_type": "code",
   "execution_count": 12,
   "metadata": {},
   "outputs": [
    {
     "data": {
      "text/plain": [
       "[0.001, 0.001, 0.001]"
      ]
     },
     "execution_count": 12,
     "metadata": {},
     "output_type": "execute_result"
    }
   ],
   "source": [
    "rwolf_pvalues"
   ]
  },
  {
   "cell_type": "code",
   "execution_count": 13,
   "metadata": {},
   "outputs": [
    {
     "data": {
      "text/html": [
       "<table style=\"text-align:center\"><tr><td colspan=\"4\" style=\"border-bottom: 1px solid black\"></td></tr>\n",
       "<tr><td style=\"text-align:left\"></td><td colspan=\"3\"><em>Dependent variable: Y</em></td></tr><tr><td style=\"text-align:left\"></td><tr><td style=\"text-align:left\"></td><td>(1)</td><td>(2)</td><td>(3)</td></tr>\n",
       "<tr><td colspan=\"4\" style=\"border-bottom: 1px solid black\"></td></tr>\n",
       "\n",
       "<tr><td style=\"text-align:left\">Intercept</td><td>0.889<sup>***</sup></td><td></td><td></td></tr>\n",
       "<tr><td style=\"text-align:left\"></td><td>(0.108)</td><td></td><td></td></tr>\n",
       "<tr><td style=\"text-align:left\">X1</td><td>-0.993<sup>***</sup></td><td>-0.950<sup>***</sup></td><td>-0.924<sup>***</sup></td></tr>\n",
       "<tr><td style=\"text-align:left\"></td><td>(0.082)</td><td>(0.067)</td><td>(0.061)</td></tr>\n",
       "<tr><td style=\"text-align:left\">X2</td><td>-0.176<sup>***</sup></td><td>-0.174<sup>***</sup></td><td>-0.174<sup>***</sup></td></tr>\n",
       "<tr><td style=\"text-align:left\"></td><td>(0.022)</td><td>(0.018)</td><td>(0.015)</td></tr>\n",
       "\n",
       "<td colspan=\"4\" style=\"border-bottom: 1px solid black\"></td></tr>\n",
       "<tr><td style=\"text-align: left\">X1: Romano-Wolf P-Value</td><td>0.001</td><td>0.001</td><td>0.001</td></tr><tr><td style=\"text-align: left\">Observations</td><td>998</td><td>997</td><td>997</td></tr><tr><td style=\"text-align: left\">R<sup>2</sup></td><td>0.177</td><td>0.489</td><td>0.659</td></tr>\n",
       "<tr><td colspan=\"4\" style=\"border-bottom: 1px solid black\"></td></tr><tr><td style=\"text-align: left\">Note:</td><td colspan=\"3\" style=\"text-align: right\"><sup>*</sup>p&lt;0.1; <sup>**</sup>p&lt;0.05; <sup>***</sup>p&lt;0.01</td></tr></table>"
      ],
      "text/plain": [
       "<stargazer.stargazer.Stargazer at 0x13d3ad85360>"
      ]
     },
     "execution_count": 13,
     "metadata": {},
     "output_type": "execute_result"
    }
   ],
   "source": [
    "result_table.add_line('X1: Romano-Wolf P-Value', rwolf_pvalues, LineLocation.FOOTER_TOP)\n",
    "result_table"
   ]
  }
 ],
 "metadata": {
  "kernelspec": {
   "display_name": "Python 3",
   "language": "python",
   "name": "python3"
  },
  "language_info": {
   "codemirror_mode": {
    "name": "ipython",
    "version": 3
   },
   "file_extension": ".py",
   "mimetype": "text/x-python",
   "name": "python",
   "nbconvert_exporter": "python",
   "pygments_lexer": "ipython3",
   "version": "3.10.8"
  }
 },
 "nbformat": 4,
 "nbformat_minor": 2
}
